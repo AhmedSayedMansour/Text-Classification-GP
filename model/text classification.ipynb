{
 "cells": [
  {
   "cell_type": "code",
   "execution_count": 2,
   "source": [
    "from sklearn.datasets import fetch_20newsgroups\r\n",
    "import numpy as np\r\n",
    "import matplotlib.pyplot as plt;\r\n",
    "#NLP\r\n",
    "\r\n",
    "from sklearn.feature_extraction.text import CountVectorizer\r\n",
    "from sklearn.feature_extraction.text import TfidfTransformer\r\n",
    "#Other Technique\r\n",
    "from sklearn.pipeline import Pipeline\r\n",
    "from sklearn.naive_bayes import MultinomialNB\r\n",
    "from sklearn.linear_model import SGDClassifier\r\n",
    "from sklearn.ensemble import RandomForestClassifier\r\n",
    "from sklearn.svm import LinearSVC\r\n",
    "#CNN\r\n",
    "from tensorflow.keras.models import Sequential\r\n",
    "from tensorflow.keras.layers import Dense\r\n",
    "from tensorflow.keras.callbacks import EarlyStopping, ModelCheckpoint\r\n",
    "#Save & Load\r\n",
    "import pickle\r\n",
    "import TextNLP\r\n",
    "from tensorflow.keras.models import model_from_json"
   ],
   "outputs": [],
   "metadata": {}
  },
  {
   "cell_type": "code",
   "execution_count": 4,
   "source": [
    "def runNLP(data):\r\n",
    "    nlpText = TextNLP.TextNLP()\r\n",
    "    for i , _ in enumerate(data):\r\n",
    "        data[i] = nlpText.prepareData(data[i])\r\n",
    "        data[i] = nlpText.slang(data[i])\r\n",
    "        data[i] = nlpText.removeStopWords(data[i])\r\n",
    "        data[i] = nlpText.stemmAndLemmatization(data[i])\r\n",
    "        data[i] = nlpText.removepunctuations(data[i])\r\n",
    "    return data"
   ],
   "outputs": [],
   "metadata": {}
  },
  {
   "cell_type": "code",
   "execution_count": 5,
   "source": [
    "#Loading the data set - training data.\r\n",
    "twenty_train = fetch_20newsgroups(subset='train', shuffle=True, remove=('headers','footers', 'quotes'))\r\n",
    "twenty_test  = fetch_20newsgroups(subset='test', shuffle=True, remove=('headers','footers', 'quotes'))\r\n",
    "# ======================= NLP ========================== \r\n",
    "train = runNLP(twenty_train.data)\r\n",
    "test = runNLP(twenty_test.data)"
   ],
   "outputs": [],
   "metadata": {
    "collapsed": true,
    "tags": []
   }
  },
  {
   "cell_type": "code",
   "execution_count": 6,
   "source": [
    "def vectorizeY(y, labels):\r\n",
    "    m = len(y)\r\n",
    "    vec = np.zeros((m,labels))\r\n",
    "    for i in range(len(y)):\r\n",
    "        vec[i][y[i]] = 1\r\n",
    "    return vec"
   ],
   "outputs": [],
   "metadata": {}
  },
  {
   "cell_type": "code",
   "execution_count": 5,
   "source": [
    "class techniques:\r\n",
    "\r\n",
    "    def naiveBayes(self,data, target):\r\n",
    "        model = Pipeline([('vect', CountVectorizer()), ('tfidf', TfidfTransformer()), ('clf', MultinomialNB())])\r\n",
    "        model = model.fit(data, target)\r\n",
    "        return model\r\n",
    "\r\n",
    "    def SVM(self, data, target):\r\n",
    "        model = Pipeline([('vect',CountVectorizer()), ('tfidf', TfidfTransformer()),('clf-svm', SGDClassifier(loss='hinge', penalty='l2',alpha=1e-3, max_iter=5, random_state=42))])\r\n",
    "        model = model.fit(data, target)\r\n",
    "        return model\r\n",
    "    \r\n",
    "    def LinearSVC(self, data, target):\r\n",
    "        model = Pipeline([('vect',CountVectorizer()), ('tfidf', TfidfTransformer()),('linear-svm', LinearSVC())])\r\n",
    "        model = model.fit(data, target)\r\n",
    "        return model\r\n",
    "\r\n",
    "    def RandomForest(self, data, target):\r\n",
    "        model = Pipeline([('vect', CountVectorizer()), ('tfidf', TfidfTransformer()), ('clf-RF', RandomForestClassifier(n_estimators=100, random_state=0, max_depth=20))])\r\n",
    "        model.fit(data, target)\r\n",
    "        return model\r\n",
    "\r\n",
    "    def CNN(self, data, target, testData):\r\n",
    "\r\n",
    "        # Prepare NLP\r\n",
    "        count_vect = CountVectorizer(stop_words='english')\r\n",
    "        CV_train = count_vect.fit_transform(data)\r\n",
    "\r\n",
    "        tfidf_transformer = TfidfTransformer()\r\n",
    "        tfidf_train = tfidf_transformer.fit_transform(CV_train)\r\n",
    "        \r\n",
    "        testData = count_vect.transform(testData)\r\n",
    "        testData = tfidf_transformer.transform(testData)\r\n",
    "        \r\n",
    "        data = tfidf_train\r\n",
    "        target = vectorizeY(target,20)\r\n",
    "\r\n",
    "        # Defining the model\r\n",
    "        model = Sequential()\r\n",
    "        model.add(Dense(1500, input_dim=data.shape[1], activation='relu'))\r\n",
    "        model.add(Dense(20, activation='softmax'))\r\n",
    "        model.compile(optimizer='adam', loss='categorical_crossentropy', metrics=['accuracy'])\r\n",
    "\r\n",
    "        # Model checkpoints and stoppers. Save the best weights and stops the model when no increase in performance to save time.\r\n",
    "        esc = EarlyStopping(monitor='val_loss', min_delta=0, patience=3, verbose=1, mode='auto')\r\n",
    "        cp = ModelCheckpoint(filepath=\"weights.hdf5\", monitor='val_loss', verbose=1, save_best_only=True)\r\n",
    "\r\n",
    "        # fitting the model.\r\n",
    "        model.fit(data, target, batch_size=128, epochs=4, callbacks=[esc, cp])\r\n",
    "\r\n",
    "        return model, testData "
   ],
   "outputs": [],
   "metadata": {}
  },
  {
   "cell_type": "code",
   "execution_count": null,
   "source": [
    "# ======================= Training =======================\r\n",
    "technique = techniques()\r\n",
    "#naiveBayes\r\n",
    "naiveBayesModel = technique.naiveBayes(train, twenty_train.target)\r\n",
    "#SVM\r\n",
    "SVMModel = technique.SVM(train, twenty_train.target)\r\n",
    "#RandomForest   \r\n",
    "RandomForestModel = technique.RandomForest(train, twenty_train.target)\r\n",
    "#LinearSVC\r\n",
    "LinearSVCModel = technique.LinearSVC(train, twenty_train.target)\r\n",
    "#CNN\r\n",
    "CNNModel, test_tr = technique.CNN(train, twenty_train.target, test)"
   ],
   "outputs": [],
   "metadata": {}
  },
  {
   "cell_type": "code",
   "execution_count": null,
   "source": [
    "# ======================= Testing =======================\r\n",
    "predicted = LinearSVCModel.predict(test)\r\n",
    "m = np.mean(predicted == twenty_test.target)\r\n",
    "print(m)"
   ],
   "outputs": [],
   "metadata": {
    "tags": []
   }
  },
  {
   "cell_type": "code",
   "execution_count": null,
   "source": [
    "## Saving the models\r\n",
    "\r\n",
    "#naiveBayesModel\r\n",
    "with open('savedModels/naiveBayesModel', 'wb') as picklefile:\r\n",
    "    pickle.dump(naiveBayesModel,picklefile)\r\n",
    "\r\n",
    "#SVMModel\r\n",
    "with open('savedModels/SVMModel', 'wb') as picklefile:\r\n",
    "    pickle.dump(SVMModel,picklefile)\r\n",
    "\r\n",
    "#RandomForestModel\r\n",
    "with open('savedModels/RandomForestModel', 'wb') as picklefile:\r\n",
    "    pickle.dump(RandomForestModel,picklefile)\r\n",
    "\r\n",
    "#LinearSVCModel\r\n",
    "with open('savedModels/LinearSVCModel', 'wb') as picklefile:\r\n",
    "    pickle.dump(LinearSVCModel,picklefile)\r\n",
    "\r\n",
    "#CNN\r\n",
    "model_json = CNNModel.to_json()\r\n",
    "with open(\"savedModels/CNN/CNNModel.json\", \"w\") as json_file:\r\n",
    "    json_file.write(model_json)\r\n",
    "#Save weights\r\n",
    "CNNModel.save_weights(\"savedModels/CNN/model.h5\")"
   ],
   "outputs": [],
   "metadata": {}
  },
  {
   "cell_type": "code",
   "execution_count": 7,
   "source": [
    "#================= Loads Models ===================\r\n",
    "#Way to load first 4 techniques\r\n",
    "with open('savedModels/naiveBayesModel', 'rb') as training_model:\r\n",
    "    loaded_naive = pickle.load(training_model)\r\n",
    "\r\n",
    "with open('savedModels/SVMModel', 'rb') as training_model:\r\n",
    "    loaded_SVM = pickle.load(training_model)\r\n",
    "\r\n",
    "with open('savedModels/LinearSVCModel', 'rb') as training_model:\r\n",
    "    loaded_LinearSVC = pickle.load(training_model)\r\n",
    "\r\n",
    "with open('savedModels/RandomForestModel', 'rb') as training_model:\r\n",
    "    loaded_RandomForest = pickle.load(training_model)\r\n",
    "\r\n",
    "#Load the CNN Model\r\n",
    "json_file = open('savedModels/CNN/CNNModel.json', 'r')\r\n",
    "loaded_model_json = json_file.read()                   \r\n",
    "\r\n",
    "loaded_CNN = model_from_json(loaded_model_json)       #Load model structure from the json file\r\n",
    "loaded_CNN.load_weights(\"savedModels/CNN/model.h5\")   # load weights into new model"
   ],
   "outputs": [],
   "metadata": {}
  },
  {
   "cell_type": "code",
   "execution_count": 66,
   "source": [
    "# Prepare test data for CNN\r\n",
    "def Count_transform_Test(train , test):\r\n",
    "    count_vect = CountVectorizer(stop_words='english')\r\n",
    "    CV_train = count_vect.fit_transform(train)\r\n",
    "\r\n",
    "    tfidf_transformer = TfidfTransformer()\r\n",
    "    tfidf_train = tfidf_transformer.fit_transform(CV_train)\r\n",
    "\r\n",
    "    testData = count_vect.transform(test)\r\n",
    "    testData = tfidf_transformer.transform(testData)\r\n",
    "    return testData"
   ],
   "outputs": [],
   "metadata": {}
  },
  {
   "cell_type": "code",
   "execution_count": 83,
   "source": [
    "# ======================= Testing =======================\r\n",
    "\r\n",
    "predicted = loaded_naive.predict(test)\r\n",
    "NaiveAcc = np.mean(predicted == twenty_test.target)*100\r\n",
    "print('naiveBayesModel :', NaiveAcc)\r\n",
    "\r\n",
    "predicted = loaded_SVM.predict(test)\r\n",
    "SVMAcc = np.mean(predicted == twenty_test.target)*100\r\n",
    "print('SVMModel :', SVMAcc)\r\n",
    "\r\n",
    "predicted = loaded_LinearSVC.predict(test)\r\n",
    "SVCAcc = np.mean(predicted == twenty_test.target)*100\r\n",
    "print('LinearSVCModel :', SVCAcc)\r\n",
    "\r\n",
    "predicted = loaded_RandomForest.predict(test)\r\n",
    "RandomAcc = np.mean(predicted == twenty_test.target)*100\r\n",
    "print('RandomForestModel :', RandomAcc)\r\n",
    "\r\n",
    "cnnTest = Count_transform_Test(train , test)\r\n",
    "predictedIndices = loaded_CNN.predict(cnnTest.toarray())\r\n",
    "predictedIndices = np.argmax(predictedIndices,axis=1)\r\n",
    "CNN = np.mean(predictedIndices == twenty_test.target)*100\r\n",
    "print('CNNModel :', CNN)"
   ],
   "outputs": [
    {
     "output_type": "stream",
     "name": "stdout",
     "text": [
      "naiveBayesModel : 66.67551779075943\n",
      "SVMModel : 68.38821030270844\n",
      "LinearSVCModel : 69.4105151354222\n",
      "RandomForestModel : 57.169410515135425\n",
      "CNNModel : 71.09665427509294\n"
     ]
    }
   ],
   "metadata": {}
  },
  {
   "cell_type": "code",
   "execution_count": 72,
   "source": [
    "modifiedLabels = ['Discussions of Atheism', 'Computer Graphics','Diverse computer operating system (windows)', \r\n",
    "                  'Personal computer hardware systems (IBM)', 'Computer systems of Macintosh hardware',\r\n",
    "                  'Computer windows 10', 'Diverse for-sale', 'Automobiles, automotive products and laws',\r\n",
    "                  'Motorcycles and related products and laws', 'Discussion about baseball', 'Discussion about hockey.',\r\n",
    "                  'Cryptography science', 'Electronic Science', 'Medicine science', 'Space Science',\r\n",
    "                  'religion of society (Christianity)', 'Politics talk about guns', 'Politics talk about middle east',\r\n",
    "                  'Diverse politics talks', 'Diverse religion talks']\r\n",
    "\r\n",
    "def predict(model, text, CNN):\r\n",
    "\r\n",
    "    if(CNN):\r\n",
    "        text = Count_transform_Test(train, text)\r\n",
    "        out = model.predict(text.toarray())\r\n",
    "        out = np.argmax(out,axis=1)\r\n",
    "    else:\r\n",
    "        out = model.predict(text)\r\n",
    "\r\n",
    "    return modifiedLabels[out[0]]\r\n",
    "\r\n",
    "Text = test[50:51]\r\n",
    "print('Text :','\\n',Text[0],'\\n')\r\n",
    "predictedLabel = predict(loaded_LinearSVC, Text , False)\r\n",
    "predictedLabel = predict(loaded_CNN,       Text , True)\r\n",
    "print('Predicted Label : ' , predictedLabel)\r\n"
   ],
   "outputs": [
    {
     "output_type": "stream",
     "name": "stdout",
     "text": [
      "Text : \n",
      " oh yeah time nice spring/summer day roll window drive around looking bike bike motor opposite direction stick arm hi5'em arm feel like million buck 60km/h thing cyclist problem hi5ing cyclist always right hand lane hafta roll window hi5 back oh well think appreciate thought regard ted \n",
      "\n",
      "Predicted Label :  Motorcycles and related products and laws\n"
     ]
    }
   ],
   "metadata": {
    "tags": []
   }
  },
  {
   "cell_type": "code",
   "execution_count": 84,
   "source": [
    "labels = ['naive Bayes', 'SVM', 'LinearSVC', 'RandomForest', 'CNN']\r\n",
    "\r\n",
    "x = np.arange(len(labels))  # the label locations\r\n",
    "width = 0.5  # the width of the bars\r\n",
    "\r\n",
    "fig, ax = plt.subplots()\r\n",
    "rects1 = ax.bar(x, [NaiveAcc, SVMAcc, SVCAcc, RandomAcc , CNN], width, label='Training')\r\n",
    "\r\n",
    "# Add some text for labels, title and custom x-axis tick labels, etc.\r\n",
    "ax.set_ylim([0,100])\r\n",
    "ax.set_ylabel('20newsgroups Dataset')\r\n",
    "ax.set_title('Accuracy')\r\n",
    "ax.set_xticks(x)\r\n",
    "ax.set_xticklabels(labels)\r\n",
    "ax.legend()\r\n",
    "\r\n",
    "fig.tight_layout()\r\n",
    "\r\n",
    "plt.show()"
   ],
   "outputs": [
    {
     "output_type": "display_data",
     "data": {
      "text/plain": [
       "<Figure size 432x288 with 1 Axes>"
      ],
      "image/png": "[encoded data removed]"
     },
     "metadata": {
      "needs_background": "light"
     }
    }
   ],
   "metadata": {}
  }
 ],
 "metadata": {
  "kernelspec": {
   "name": "python3",
   "display_name": "Python 3.6.4 64-bit ('machine_learning': conda)"
  },
  "language_info": {
   "name": "python",
   "version": "3.6.4",
   "mimetype": "text/x-python",
   "codemirror_mode": {
    "name": "ipython",
    "version": 3
   },
   "pygments_lexer": "ipython3",
   "nbconvert_exporter": "python",
   "file_extension": ".py"
  },
  "interpreter": {
   "hash": "dd611110a353d997d32ab9a3a577087e569cb682f4339466cf5a17f22bab8f94"
  }
 },
 "nbformat": 4,
 "nbformat_minor": 2
}