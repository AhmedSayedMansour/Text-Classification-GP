{
 "cells": [
  {
   "cell_type": "code",
   "execution_count": 68,
   "metadata": {},
   "outputs": [],
   "source": [
    "import numpy as np\n",
    "import nltk\n",
    "from sklearn.datasets import fetch_20newsgroups\n",
    "from sklearn.pipeline import Pipeline\n",
    "from nltk.corpus import stopwords \n",
    "from nltk.stem.snowball import SnowballStemmer\n",
    "import html\n",
    "import re\n",
    "import string\n",
    "from nltk.stem import PorterStemmer\n",
    "from nltk.tokenize import word_tokenize\n",
    "from nltk.stem import WordNetLemmatizer\n",
    "from sklearn.feature_extraction.text import CountVectorizer\n",
    "from sklearn.feature_extraction.text import TfidfTransformer\n",
    "from sklearn.naive_bayes import MultinomialNB\n",
    "from sklearn.linear_model import SGDClassifier\n",
    "from sklearn.ensemble import RandomForestClassifier\n"
   ]
  },
  {
   "cell_type": "code",
   "execution_count": 69,
   "metadata": {
    "collapsed": true
   },
   "outputs": [],
   "source": [
    "#Loading the data set - training data.\n",
    "twenty_train = fetch_20newsgroups(subset='train', shuffle=True, remove=('headers','footers', 'quotes'))\n",
    "twenty_test  = fetch_20newsgroups(subset='test', shuffle=True, remove=('headers','footers', 'quotes'))\n"
   ]
  },
  {
   "cell_type": "code",
   "execution_count": 70,
   "metadata": {},
   "outputs": [],
   "source": [
    "class NLP:\n",
    "\n",
    "    def prepareData(self,data):\n",
    "        #Escaping out HTML characters \n",
    "        data=html.unescape(data)\n",
    "    \n",
    "        # remove hyperlinks \n",
    "        data = re.sub(r'https?:\\/\\/.\\S+', \"\", data) \n",
    "        \n",
    "        # remove hashtags\n",
    "        data = re.sub(r'#', '', data) \n",
    "        \n",
    "        # remove old style data text \"RT\" \n",
    "        data = re.sub(r'^RT[\\s]+', '', data)\n",
    "\n",
    "        #dictionary consisting of the contraction and the actual value \n",
    "        dictionary ={\"'s\":\" is\",\"n't\":\" not\",\"'m\":\" am\",\"'ll\":\" will\", \"'d\":\" would\",\"'ve\":\" have\",\"'re\":\" are\"} \n",
    "        \n",
    "        #replace the contractions \n",
    "        for key,value in dictionary.items(): \n",
    "            if key in data: \n",
    "                data=data.replace(key,value)\n",
    "\n",
    "        #separate the words \n",
    "        data = \" \".join([s for s in re.split(\"([A-Z][a-z]+[^A-Z]*)\",data) if s]) \n",
    "        \n",
    "        #convert to lower case \n",
    "        data=data.lower()\n",
    "\n",
    "        return data\n",
    "\n",
    "\n",
    "    def slang(self,data):\n",
    "        #replace the slang word with meaning\n",
    "        file=open(\"slang.txt\",\"r\") \n",
    "        slang=file.read() \n",
    "        \n",
    "        #seperating each line present in the file \n",
    "        slang=slang.split('\\n') \n",
    "        \n",
    "        data_tokens=data.split() \n",
    "        slang_word=[] \n",
    "        meaning=[] \n",
    "        \n",
    "        #store the slang words and meanings in different lists \n",
    "        for line in slang: \n",
    "            temp=line.split(\"=\") \n",
    "            slang_word.append(temp[0]) \n",
    "            meaning.append(temp[-1]) \n",
    "        \n",
    "        #replace the slang word with meaning \n",
    "        for i,word in enumerate(data_tokens): \n",
    "            if word in slang_word: \n",
    "                idx=slang_word.index(word) \n",
    "                data_tokens[i]=meaning[idx] \n",
    "        data=\" \".join(data_tokens)\n",
    "        return data\n",
    "\n",
    "    def stemmAndLemmatization(self,data):\n",
    "        stemmer= PorterStemmer()\n",
    "        lemmatizer=WordNetLemmatizer()\n",
    "\n",
    "        data=word_tokenize(data)\n",
    "        data_list=[] \n",
    "        for word in data:\n",
    "\n",
    "            #word = stemmer.stem(word)\n",
    "            word = lemmatizer.lemmatize(word)\n",
    "            data_list.append(word)\n",
    "        data=\" \".join(data_list)\n",
    "\n",
    "        return data\n",
    "\n",
    "    def removeStopWords(self,data):\n",
    "        #import english stopwords list from nltk \n",
    "        stopwords_eng = stopwords.words('english')  \n",
    "        \n",
    "        data_tokens=data.split() \n",
    "        data_list=[] \n",
    "        #remove stopwords \n",
    "        for word in data_tokens: \n",
    "            if word not in stopwords_eng: \n",
    "                data_list.append(word) \n",
    "        data=\" \".join(data_list)\n",
    "\n",
    "        return data\n",
    "\n",
    "    def removepunctuations(self,data):\n",
    "        #remove punctuations\n",
    "        data_tokens=data.split() \n",
    "        data_list=[]  \n",
    "        \n",
    "        for word in data_tokens:\n",
    "            if word not in string.punctuation: \n",
    "                data_list.append(word) \n",
    "        data=\" \".join(data_list)\n",
    "\n",
    "        return data"
   ]
  },
  {
   "cell_type": "code",
   "execution_count": 71,
   "metadata": {},
   "outputs": [],
   "source": [
    "def runNLP(data):\n",
    "    \n",
    "    for i , _ in enumerate(data):\n",
    "        data[i] = filter.prepareData(data[i])\n",
    "        data[i] = filter.slang(data[i])\n",
    "        data[i] = filter.removeStopWords(data[i])\n",
    "        data[i] = filter.stemmAndLemmatization(data[i])\n",
    "        data[i] = filter.removepunctuations(data[i])\n",
    "\n",
    "    return data"
   ]
  },
  {
   "cell_type": "code",
   "execution_count": 72,
   "metadata": {},
   "outputs": [],
   "source": [
    "class StemmedCountVectorizer(CountVectorizer):\n",
    "    def build_analyzer(self):\n",
    "        stemmer = SnowballStemmer(\"english\", ignore_stopwords=True)\n",
    "        analyzer = super(StemmedCountVectorizer, self).build_analyzer()\n",
    "        return lambda doc: ([stemmer.stem(w) for w in analyzer(doc)])"
   ]
  },
  {
   "cell_type": "code",
   "execution_count": 73,
   "metadata": {},
   "outputs": [],
   "source": [
    "class techniques:\n",
    "\n",
    "    def naiveBayes(self,data, target):\n",
    "        stemmed_count_vect = StemmedCountVectorizer(stop_words='english')\n",
    "        model = Pipeline([('vect', stemmed_count_vect), ('tfidf', TfidfTransformer()), ('clf', MultinomialNB())])\n",
    "        model = model.fit(data, target)\n",
    "        return model\n",
    "\n",
    "    def SVM(self, data, target):\n",
    "        model = Pipeline([('vect',CountVectorizer()), ('tfidf', TfidfTransformer()),('clf-svm', SGDClassifier(loss='hinge',                penalty='l2',alpha=1e-3, max_iter=5, random_state=42))])\n",
    "        model = model.fit(data, target)\n",
    "        return model\n",
    "\n",
    "    def RF(self, data, target):\n",
    "        model = Pipeline([('vect', CountVectorizer()), ('tfidf', TfidfTransformer()), ('clf-RF', RandomForestClassifier                       (n_estimators=1000, random_state=0))])\n",
    "        model.fit(data, target)\n",
    "        return model\n",
    "    "
   ]
  },
  {
   "cell_type": "code",
   "execution_count": 74,
   "metadata": {},
   "outputs": [],
   "source": [
    "# ======================= NLP ========================== \n",
    "train = runNLP(twenty_train.data)"
   ]
  },
  {
   "cell_type": "code",
   "execution_count": 75,
   "metadata": {},
   "outputs": [],
   "source": [
    "# ======================= Training =======================\n",
    "technique = techniques()\n",
    "model = technique.SVM(train, twenty_train.target)"
   ]
  },
  {
   "cell_type": "code",
   "execution_count": 76,
   "metadata": {},
   "outputs": [
    {
     "output_type": "stream",
     "name": "stdout",
     "text": [
      "0.6840148698884758\n"
     ]
    }
   ],
   "source": [
    "# ======================= Testing =======================\n",
    "test = runNLP(twenty_test.data)\n",
    "\n",
    "predicted = model.predict(test)\n",
    "m = np.mean(predicted == twenty_test.target)\n",
    "print (m)"
   ]
  },
  {
   "cell_type": "code",
   "execution_count": null,
   "metadata": {},
   "outputs": [],
   "source": []
  }
 ],
 "metadata": {
  "kernelspec": {
   "name": "python3",
   "display_name": "Python 3.6.12 64-bit ('machine_learning': conda)",
   "metadata": {
    "interpreter": {
     "hash": "dd611110a353d997d32ab9a3a577087e569cb682f4339466cf5a17f22bab8f94"
    }
   }
  },
  "language_info": {
   "codemirror_mode": {
    "name": "ipython",
    "version": 2
   },
   "file_extension": ".py",
   "mimetype": "text/x-python",
   "name": "python",
   "nbconvert_exporter": "python",
   "pygments_lexer": "ipython2",
   "version": "3.6.12-final"
  }
 },
 "nbformat": 4,
 "nbformat_minor": 2
}