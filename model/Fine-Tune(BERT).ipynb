{
 "cells": [
  {
   "cell_type": "code",
   "execution_count": 16,
   "source": [
    "import torch\r\n",
    "from transformers import BertTokenizerFast, BertForSequenceClassification\r\n",
    "from transformers import Trainer, TrainingArguments\r\n",
    "from sklearn.datasets import fetch_20newsgroups\r\n",
    "from sklearn.model_selection import train_test_split\r\n",
    "from sklearn.metrics import accuracy_score"
   ],
   "outputs": [],
   "metadata": {}
  },
  {
   "cell_type": "code",
   "execution_count": 12,
   "source": [
    "model_name = \"bert-base-uncased\"\r\n",
    "max_length = 512"
   ],
   "outputs": [],
   "metadata": {}
  },
  {
   "cell_type": "code",
   "execution_count": 20,
   "source": [
    "#Load Dataset\r\n",
    "def read_20newsgroups(test_size=0.2):\r\n",
    "  dataset = fetch_20newsgroups(subset=\"all\", shuffle=True, remove=(\"headers\", \"footers\", \"quotes\"))\r\n",
    "  documents = dataset.data\r\n",
    "  labels = dataset.target\r\n",
    "  return train_test_split(documents, labels, test_size=test_size), dataset.target_names\r\n",
    "  \r\n",
    "(train, test, train_target, test_target), target_names = read_20newsgroups()"
   ],
   "outputs": [],
   "metadata": {}
  },
  {
   "cell_type": "code",
   "execution_count": 21,
   "source": [
    "#Load the Tokenizer\r\n",
    "tokenizer = BertTokenizerFast.from_pretrained(model_name, do_lower_case=True)\r\n",
    "\r\n",
    "#Tokanize train and test data\r\n",
    "train = tokenizer(train, truncation=True, padding=True, max_length=max_length)\r\n",
    "test = tokenizer(test, truncation=True, padding=True, max_length=max_length)"
   ],
   "outputs": [],
   "metadata": {}
  },
  {
   "cell_type": "code",
   "execution_count": 22,
   "source": [
    "#Encode the data to torch\r\n",
    "class NewsGroupsDataset(torch.utils.data.Dataset):\r\n",
    "    def __init__(self, encodings, labels):\r\n",
    "        self.encodings = encodings\r\n",
    "        self.labels = labels\r\n",
    "\r\n",
    "    def __getitem__(self, idx):\r\n",
    "        item = {k: torch.tensor(v[idx]) for k, v in self.encodings.items()}\r\n",
    "        item[\"labels\"] = torch.tensor([self.labels[idx]])\r\n",
    "        return item\r\n",
    "\r\n",
    "    def __len__(self):\r\n",
    "        return len(self.labels)\r\n",
    "        \r\n",
    "train_dataset = NewsGroupsDataset(train, train_target)\r\n",
    "test_dataset = NewsGroupsDataset(test, test_target)"
   ],
   "outputs": [],
   "metadata": {}
  },
  {
   "cell_type": "code",
   "execution_count": null,
   "source": [
    "#Convert model to cuda GPU (Running this on colap to use GPU)\r\n",
    "model = BertForSequenceClassification.from_pretrained(model_name, num_labels=len(target_names)).to(\"cuda\")"
   ],
   "outputs": [],
   "metadata": {}
  },
  {
   "cell_type": "code",
   "execution_count": 24,
   "source": [
    "#Accuracy Function needed in training\r\n",
    "def Accuracy(pred):\r\n",
    "  labels = pred.label_ids\r\n",
    "  preds = pred.predictions.argmax(-1)\r\n",
    "  acc = accuracy_score(labels, preds)\r\n",
    "  return {\r\n",
    "      'accuracy': acc,\r\n",
    "  }"
   ],
   "outputs": [],
   "metadata": {}
  },
  {
   "cell_type": "code",
   "execution_count": null,
   "source": [
    "#Define training Arguments\r\n",
    "training_args = TrainingArguments(\r\n",
    "    output_dir='./results',          # output directory\r\n",
    "    num_train_epochs=3,              # total number of training epochs\r\n",
    "    per_device_train_batch_size=16,  # batch size per device during training\r\n",
    "    per_device_eval_batch_size=20,   # batch size for evaluation\r\n",
    "    warmup_steps=500,                # number of warmup steps for learning rate scheduler\r\n",
    "    weight_decay=0.01,               # strength of weight decay\r\n",
    "    logging_dir='./logs',            # directory for storing logs\r\n",
    "    load_best_model_at_end=True,     # load the best model when finished training (default metric is loss)\r\n",
    "    # but you can specify `metric_for_best_model` argument to change to accuracy or other metric\r\n",
    "    logging_steps=200,               # log & save weights each logging_steps\r\n",
    "    evaluation_strategy=\"steps\",     # evaluate each `logging_steps`\r\n",
    ")\r\n",
    "#Define the trainer\r\n",
    "trainer = Trainer(\r\n",
    "    model=model,                         # the instantiated Transformers model to be trained\r\n",
    "    args=training_args,                  # training arguments, defined above\r\n",
    "    train_dataset=train_dataset,         # training dataset\r\n",
    "    eval_dataset=test_dataset,          # evaluation dataset\r\n",
    "    compute_metrics=Accuracy,     # the callback that computes metrics of interest\r\n",
    ")"
   ],
   "outputs": [],
   "metadata": {}
  },
  {
   "cell_type": "code",
   "execution_count": null,
   "source": [
    "#Train the model on the new data (Training done on colap)\r\n",
    "trainer.train()\r\n",
    "#Check the accuracy\r\n",
    "trainer.evaluate()\r\n",
    "\r\n",
    "#To save the file after training\r\n",
    "model_path = \"Fine-Tune(BERT)\"\r\n",
    "model.save_pretrained(model_path)\r\n",
    "tokenizer.save_pretrained(model_path)"
   ],
   "outputs": [],
   "metadata": {}
  },
  {
   "cell_type": "code",
   "execution_count": 39,
   "source": [
    "#Load the saved model\r\n",
    "from transformers import BertTokenizer\r\n",
    "tokenizer = BertTokenizer.from_pretrained('Fine-Tune(BERT)', do_lower_case=True, do_basic_tokenize=True)\r\n",
    "model = BertForSequenceClassification.from_pretrained('Fine-Tune(BERT)')\r\n"
   ],
   "outputs": [],
   "metadata": {}
  },
  {
   "cell_type": "code",
   "execution_count": 40,
   "source": [
    "def get_prediction(text):\r\n",
    "    #Tokenize the input\r\n",
    "    inputs = tokenizer(text, padding=True, truncation=True, max_length=max_length, return_tensors=\"pt\")\r\n",
    "    #Inference to the model\r\n",
    "    outputs = model(**inputs)\r\n",
    "    #Get output probabilty\r\n",
    "    probs = outputs[0].softmax(1)\r\n",
    "    #Get the actual label name\r\n",
    "    return target_names[probs.argmax()]"
   ],
   "outputs": [],
   "metadata": {}
  },
  {
   "cell_type": "code",
   "execution_count": 46,
   "source": [
    "#Testing the model\r\n",
    "text = \"\"\"\r\n",
    "A black hole is a place in space where gravity pulls so much that even light can not get out. \r\n",
    "The gravity is so strong because matter has been squeezed into a tiny space. This can happen when a star is dying.\r\n",
    "Because no light can get out, people can't see black holes. \r\n",
    "They are invisible. Space telescopes with special tools can help find black holes. \r\n",
    "The special tools can see how stars that are very close to black holes act differently than other stars.\r\n",
    "\"\"\"\r\n",
    "text2 = \"\"\"\r\n",
    "The first thing is first. \r\n",
    "If you purchase a Macbook, you should not encounter performance issues that will prevent you from learning to code efficiently.\r\n",
    "However, in the off chance that you have to deal with a slow computer, you will need to make some adjustments. \r\n",
    "Having too many background apps running in the background is one of the most common causes. \r\n",
    "The same can be said about a lack of drive storage. \r\n",
    "For that, it helps if you uninstall xcode and other unnecessary applications, as well as temporary system junk like caches and old backups.\r\n",
    "\"\"\" \r\n",
    "text3 = \"\"\"\r\n",
    "Coronavirus disease (COVID-19) is an infectious disease caused by a newly discovered coronavirus.\r\n",
    "Most people infected with the COVID-19 virus will experience mild to moderate respiratory illness and recover without requiring special treatment.  \r\n",
    "Older people, and those with underlying medical problems like cardiovascular disease, diabetes, chronic respiratory disease, and cancer are more likely to develop serious illness.\r\n",
    "\"\"\"\r\n",
    "\r\n",
    "print(get_prediction(text3))"
   ],
   "outputs": [
    {
     "output_type": "stream",
     "name": "stdout",
     "text": [
      "sci.med\n"
     ]
    }
   ],
   "metadata": {}
  }
 ],
 "metadata": {
  "orig_nbformat": 4,
  "language_info": {
   "name": "python"
  }
 },
 "nbformat": 4,
 "nbformat_minor": 2
}