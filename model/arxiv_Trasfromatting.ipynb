{
 "metadata": {
  "language_info": {
   "codemirror_mode": {
    "name": "ipython",
    "version": 3
   },
   "file_extension": ".py",
   "mimetype": "text/x-python",
   "name": "python",
   "nbconvert_exporter": "python",
   "pygments_lexer": "ipython3",
   "version": "3.8.3"
  },
  "orig_nbformat": 4,
  "kernelspec": {
   "name": "python3",
   "display_name": "Python 3.8.3 64-bit"
  },
  "interpreter": {
   "hash": "22e98dc126c11ed8b7da0abd0314319f11fb1123801a9053e96dbd9ca057f78a"
  }
 },
 "nbformat": 4,
 "nbformat_minor": 2,
 "cells": [
  {
   "cell_type": "code",
   "execution_count": 1,
   "metadata": {},
   "outputs": [],
   "source": [
    "import numpy as np\n",
    "import pandas as pd\n",
    "import json\n",
    "import itertools"
   ]
  },
  {
   "cell_type": "code",
   "execution_count": 2,
   "metadata": {},
   "outputs": [],
   "source": [
    "def load_file():\n",
    "    with open('arxiv-metadata-oai-snapshot.json') as f:\n",
    "        for line in f:\n",
    "            yield json.loads(line)"
   ]
  },
  {
   "cell_type": "code",
   "execution_count": 3,
   "metadata": {},
   "outputs": [],
   "source": [
    "metadata = load_file()"
   ]
  },
  {
   "cell_type": "code",
   "execution_count": 4,
   "metadata": {},
   "outputs": [],
   "source": [
    "subset = itertools.islice(metadata, 1500000)\n",
    "\n",
    "df = pd.DataFrame(subset)"
   ]
  },
  {
   "cell_type": "code",
   "execution_count": 5,
   "metadata": {},
   "outputs": [
    {
     "output_type": "execute_result",
     "data": {
      "text/plain": [
       "          id           submitter  \\\n",
       "0  0704.0001      Pavel Nadolsky   \n",
       "1  0704.0002        Louis Theran   \n",
       "2  0704.0003         Hongjun Pan   \n",
       "3  0704.0004        David Callan   \n",
       "4  0704.0005  Alberto Torchinsky   \n",
       "\n",
       "                                             authors  \\\n",
       "0  C. Bal\\'azs, E. L. Berger, P. M. Nadolsky, C.-...   \n",
       "1                    Ileana Streinu and Louis Theran   \n",
       "2                                        Hongjun Pan   \n",
       "3                                       David Callan   \n",
       "4           Wael Abu-Shammala and Alberto Torchinsky   \n",
       "\n",
       "                                               title  \\\n",
       "0  Calculation of prompt diphoton production cros...   \n",
       "1           Sparsity-certifying Graph Decompositions   \n",
       "2  The evolution of the Earth-Moon system based o...   \n",
       "3  A determinant of Stirling cycle numbers counts...   \n",
       "4  From dyadic $\\Lambda_{\\alpha}$ to $\\Lambda_{\\a...   \n",
       "\n",
       "                                  comments  \\\n",
       "0  37 pages, 15 figures; published version   \n",
       "1    To appear in Graphs and Combinatorics   \n",
       "2                      23 pages, 3 figures   \n",
       "3                                 11 pages   \n",
       "4                                     None   \n",
       "\n",
       "                                 journal-ref                         doi  \\\n",
       "0                   Phys.Rev.D76:013009,2007  10.1103/PhysRevD.76.013009   \n",
       "1                                       None                        None   \n",
       "2                                       None                        None   \n",
       "3                                       None                        None   \n",
       "4  Illinois J. Math. 52 (2008) no.2, 681-689                        None   \n",
       "\n",
       "          report-no       categories  \\\n",
       "0  ANL-HEP-PR-07-12           hep-ph   \n",
       "1              None    math.CO cs.CG   \n",
       "2              None   physics.gen-ph   \n",
       "3              None          math.CO   \n",
       "4              None  math.CA math.FA   \n",
       "\n",
       "                                             license  \\\n",
       "0                                               None   \n",
       "1  http://arxiv.org/licenses/nonexclusive-distrib...   \n",
       "2                                               None   \n",
       "3                                               None   \n",
       "4                                               None   \n",
       "\n",
       "                                            abstract  \\\n",
       "0    A fully differential calculation in perturba...   \n",
       "1    We describe a new algorithm, the $(k,\\ell)$-...   \n",
       "2    The evolution of Earth-Moon system is descri...   \n",
       "3    We show that a determinant of Stirling cycle...   \n",
       "4    In this paper we show how to compute the $\\L...   \n",
       "\n",
       "                                            versions update_date  \\\n",
       "0  [{'version': 'v1', 'created': 'Mon, 2 Apr 2007...  2008-11-26   \n",
       "1  [{'version': 'v1', 'created': 'Sat, 31 Mar 200...  2008-12-13   \n",
       "2  [{'version': 'v1', 'created': 'Sun, 1 Apr 2007...  2008-01-13   \n",
       "3  [{'version': 'v1', 'created': 'Sat, 31 Mar 200...  2007-05-23   \n",
       "4  [{'version': 'v1', 'created': 'Mon, 2 Apr 2007...  2013-10-15   \n",
       "\n",
       "                                      authors_parsed  \n",
       "0  [[Balázs, C., ], [Berger, E. L., ], [Nadolsky,...  \n",
       "1           [[Streinu, Ileana, ], [Theran, Louis, ]]  \n",
       "2                                 [[Pan, Hongjun, ]]  \n",
       "3                                [[Callan, David, ]]  \n",
       "4  [[Abu-Shammala, Wael, ], [Torchinsky, Alberto, ]]  "
      ],
      "text/html": "<div>\n<style scoped>\n    .dataframe tbody tr th:only-of-type {\n        vertical-align: middle;\n    }\n\n    .dataframe tbody tr th {\n        vertical-align: top;\n    }\n\n    .dataframe thead th {\n        text-align: right;\n    }\n</style>\n<table border=\"1\" class=\"dataframe\">\n  <thead>\n    <tr style=\"text-align: right;\">\n      <th></th>\n      <th>id</th>\n      <th>submitter</th>\n      <th>authors</th>\n      <th>title</th>\n      <th>comments</th>\n      <th>journal-ref</th>\n      <th>doi</th>\n      <th>report-no</th>\n      <th>categories</th>\n      <th>license</th>\n      <th>abstract</th>\n      <th>versions</th>\n      <th>update_date</th>\n      <th>authors_parsed</th>\n    </tr>\n  </thead>\n  <tbody>\n    <tr>\n      <th>0</th>\n      <td>0704.0001</td>\n      <td>Pavel Nadolsky</td>\n      <td>C. Bal\\'azs, E. L. Berger, P. M. Nadolsky, C.-...</td>\n      <td>Calculation of prompt diphoton production cros...</td>\n      <td>37 pages, 15 figures; published version</td>\n      <td>Phys.Rev.D76:013009,2007</td>\n      <td>10.1103/PhysRevD.76.013009</td>\n      <td>ANL-HEP-PR-07-12</td>\n      <td>hep-ph</td>\n      <td>None</td>\n      <td>A fully differential calculation in perturba...</td>\n      <td>[{'version': 'v1', 'created': 'Mon, 2 Apr 2007...</td>\n      <td>2008-11-26</td>\n      <td>[[Balázs, C., ], [Berger, E. L., ], [Nadolsky,...</td>\n    </tr>\n    <tr>\n      <th>1</th>\n      <td>0704.0002</td>\n      <td>Louis Theran</td>\n      <td>Ileana Streinu and Louis Theran</td>\n      <td>Sparsity-certifying Graph Decompositions</td>\n      <td>To appear in Graphs and Combinatorics</td>\n      <td>None</td>\n      <td>None</td>\n      <td>None</td>\n      <td>math.CO cs.CG</td>\n      <td>http://arxiv.org/licenses/nonexclusive-distrib...</td>\n      <td>We describe a new algorithm, the $(k,\\ell)$-...</td>\n      <td>[{'version': 'v1', 'created': 'Sat, 31 Mar 200...</td>\n      <td>2008-12-13</td>\n      <td>[[Streinu, Ileana, ], [Theran, Louis, ]]</td>\n    </tr>\n    <tr>\n      <th>2</th>\n      <td>0704.0003</td>\n      <td>Hongjun Pan</td>\n      <td>Hongjun Pan</td>\n      <td>The evolution of the Earth-Moon system based o...</td>\n      <td>23 pages, 3 figures</td>\n      <td>None</td>\n      <td>None</td>\n      <td>None</td>\n      <td>physics.gen-ph</td>\n      <td>None</td>\n      <td>The evolution of Earth-Moon system is descri...</td>\n      <td>[{'version': 'v1', 'created': 'Sun, 1 Apr 2007...</td>\n      <td>2008-01-13</td>\n      <td>[[Pan, Hongjun, ]]</td>\n    </tr>\n    <tr>\n      <th>3</th>\n      <td>0704.0004</td>\n      <td>David Callan</td>\n      <td>David Callan</td>\n      <td>A determinant of Stirling cycle numbers counts...</td>\n      <td>11 pages</td>\n      <td>None</td>\n      <td>None</td>\n      <td>None</td>\n      <td>math.CO</td>\n      <td>None</td>\n      <td>We show that a determinant of Stirling cycle...</td>\n      <td>[{'version': 'v1', 'created': 'Sat, 31 Mar 200...</td>\n      <td>2007-05-23</td>\n      <td>[[Callan, David, ]]</td>\n    </tr>\n    <tr>\n      <th>4</th>\n      <td>0704.0005</td>\n      <td>Alberto Torchinsky</td>\n      <td>Wael Abu-Shammala and Alberto Torchinsky</td>\n      <td>From dyadic $\\Lambda_{\\alpha}$ to $\\Lambda_{\\a...</td>\n      <td>None</td>\n      <td>Illinois J. Math. 52 (2008) no.2, 681-689</td>\n      <td>None</td>\n      <td>None</td>\n      <td>math.CA math.FA</td>\n      <td>None</td>\n      <td>In this paper we show how to compute the $\\L...</td>\n      <td>[{'version': 'v1', 'created': 'Mon, 2 Apr 2007...</td>\n      <td>2013-10-15</td>\n      <td>[[Abu-Shammala, Wael, ], [Torchinsky, Alberto, ]]</td>\n    </tr>\n  </tbody>\n</table>\n</div>"
     },
     "metadata": {},
     "execution_count": 5
    }
   ],
   "source": [
    "df.head()"
   ]
  },
  {
   "cell_type": "code",
   "execution_count": 14,
   "metadata": {},
   "outputs": [],
   "source": [
    "newdf = df[[\"abstract\", \"categories\"]]"
   ]
  },
  {
   "cell_type": "code",
   "execution_count": 15,
   "metadata": {},
   "outputs": [
    {
     "output_type": "execute_result",
     "data": {
      "text/plain": [
       "(1500000, 2)"
      ]
     },
     "metadata": {},
     "execution_count": 15
    }
   ],
   "source": [
    "newdf.shape"
   ]
  },
  {
   "cell_type": "code",
   "execution_count": 16,
   "metadata": {},
   "outputs": [],
   "source": [
    "newdf.to_csv(r'arxiv.csv', index = False)"
   ]
  },
  {
   "cell_type": "code",
   "execution_count": null,
   "metadata": {},
   "outputs": [],
   "source": []
  }
 ]
}